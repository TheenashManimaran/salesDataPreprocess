{
 "cells": [
  {
   "cell_type": "markdown",
   "id": "5ca62585-7a6e-4b3c-a952-beef6eeea72a",
   "metadata": {},
   "source": [
    "### importing libraries"
   ]
  },
  {
   "cell_type": "code",
   "execution_count": 1,
   "id": "a4245568-89e4-431a-a497-1a03e6fa02af",
   "metadata": {},
   "outputs": [],
   "source": [
    "import numpy as np\n",
    "import pandas as pd \n",
    "import matplotlib.pyplot as plt\n",
    "import warnings\n",
    "warnings.filterwarnings(\"ignore\")"
   ]
  },
  {
   "cell_type": "markdown",
   "id": "ff3099c0-75d1-4fad-8556-fc7c8545d091",
   "metadata": {},
   "source": [
    "## Loading data"
   ]
  },
  {
   "cell_type": "code",
   "execution_count": 2,
   "id": "7e12da0f-237e-46b6-b7ee-f784dc585afd",
   "metadata": {},
   "outputs": [
    {
     "data": {
      "text/html": [
       "<div>\n",
       "<style scoped>\n",
       "    .dataframe tbody tr th:only-of-type {\n",
       "        vertical-align: middle;\n",
       "    }\n",
       "\n",
       "    .dataframe tbody tr th {\n",
       "        vertical-align: top;\n",
       "    }\n",
       "\n",
       "    .dataframe thead th {\n",
       "        text-align: right;\n",
       "    }\n",
       "</style>\n",
       "<table border=\"1\" class=\"dataframe\">\n",
       "  <thead>\n",
       "    <tr style=\"text-align: right;\">\n",
       "      <th></th>\n",
       "      <th>PropType</th>\n",
       "      <th>Taxkey</th>\n",
       "      <th>Address</th>\n",
       "      <th>CondoProject</th>\n",
       "      <th>District</th>\n",
       "      <th>Nbhd</th>\n",
       "      <th>Style</th>\n",
       "      <th>Extwall</th>\n",
       "      <th>Stories</th>\n",
       "      <th>Year_Built</th>\n",
       "      <th>Nr_of_rms</th>\n",
       "      <th>Fin_sqft</th>\n",
       "      <th>Units</th>\n",
       "      <th>Bdrms</th>\n",
       "      <th>Fbath</th>\n",
       "      <th>Hbath</th>\n",
       "      <th>Lotsize</th>\n",
       "      <th>Sale_date</th>\n",
       "      <th>Sale_price</th>\n",
       "    </tr>\n",
       "  </thead>\n",
       "  <tbody>\n",
       "    <tr>\n",
       "      <th>34518</th>\n",
       "      <td>Commercial</td>\n",
       "      <td>2420009000</td>\n",
       "      <td>4141 N RICHARDS ST</td>\n",
       "      <td>NaN</td>\n",
       "      <td>6</td>\n",
       "      <td>6236</td>\n",
       "      <td>Warehouse Building - 1 Story</td>\n",
       "      <td>NaN</td>\n",
       "      <td>1.0</td>\n",
       "      <td>1949</td>\n",
       "      <td>0</td>\n",
       "      <td>4800</td>\n",
       "      <td>1</td>\n",
       "      <td>0</td>\n",
       "      <td>0</td>\n",
       "      <td>0</td>\n",
       "      <td>9000</td>\n",
       "      <td>2018-12</td>\n",
       "      <td>165000</td>\n",
       "    </tr>\n",
       "    <tr>\n",
       "      <th>34519</th>\n",
       "      <td>Vacant Land</td>\n",
       "      <td>2070279100</td>\n",
       "      <td>3202 W CAMERON AV</td>\n",
       "      <td>NaN</td>\n",
       "      <td>1</td>\n",
       "      <td>6232</td>\n",
       "      <td>Commercial Land</td>\n",
       "      <td>NaN</td>\n",
       "      <td>0.0</td>\n",
       "      <td>0</td>\n",
       "      <td>0</td>\n",
       "      <td>0</td>\n",
       "      <td>1</td>\n",
       "      <td>0</td>\n",
       "      <td>0</td>\n",
       "      <td>0</td>\n",
       "      <td>7800</td>\n",
       "      <td>2018-12</td>\n",
       "      <td>3900</td>\n",
       "    </tr>\n",
       "    <tr>\n",
       "      <th>34520</th>\n",
       "      <td>Vacant Land</td>\n",
       "      <td>6889973111</td>\n",
       "      <td>6154 S 13TH ST</td>\n",
       "      <td>NaN</td>\n",
       "      <td>13</td>\n",
       "      <td>6290</td>\n",
       "      <td>Commercial Land</td>\n",
       "      <td>NaN</td>\n",
       "      <td>0.0</td>\n",
       "      <td>0</td>\n",
       "      <td>0</td>\n",
       "      <td>0</td>\n",
       "      <td>1</td>\n",
       "      <td>0</td>\n",
       "      <td>0</td>\n",
       "      <td>0</td>\n",
       "      <td>152286</td>\n",
       "      <td>2018-12</td>\n",
       "      <td>100000</td>\n",
       "    </tr>\n",
       "    <tr>\n",
       "      <th>34521</th>\n",
       "      <td>Vacant Land</td>\n",
       "      <td>1120017000</td>\n",
       "      <td>7351 N BEAU AV</td>\n",
       "      <td>NaN</td>\n",
       "      <td>5</td>\n",
       "      <td>820</td>\n",
       "      <td>**</td>\n",
       "      <td>NaN</td>\n",
       "      <td>0.0</td>\n",
       "      <td>0</td>\n",
       "      <td>0</td>\n",
       "      <td>0</td>\n",
       "      <td>0</td>\n",
       "      <td>0</td>\n",
       "      <td>0</td>\n",
       "      <td>0</td>\n",
       "      <td>8925</td>\n",
       "      <td>2018-12</td>\n",
       "      <td>362400</td>\n",
       "    </tr>\n",
       "    <tr>\n",
       "      <th>34522</th>\n",
       "      <td>Vacant Land</td>\n",
       "      <td>3550447000</td>\n",
       "      <td>2208 N NEWHALL ST</td>\n",
       "      <td>NaN</td>\n",
       "      <td>3</td>\n",
       "      <td>3190</td>\n",
       "      <td>**</td>\n",
       "      <td>NaN</td>\n",
       "      <td>0.0</td>\n",
       "      <td>0</td>\n",
       "      <td>0</td>\n",
       "      <td>0</td>\n",
       "      <td>0</td>\n",
       "      <td>0</td>\n",
       "      <td>0</td>\n",
       "      <td>0</td>\n",
       "      <td>5400</td>\n",
       "      <td>2018-12</td>\n",
       "      <td>91000</td>\n",
       "    </tr>\n",
       "  </tbody>\n",
       "</table>\n",
       "</div>"
      ],
      "text/plain": [
       "          PropType      Taxkey             Address CondoProject  District  \\\n",
       "34518   Commercial  2420009000  4141 N RICHARDS ST          NaN         6   \n",
       "34519  Vacant Land  2070279100   3202 W CAMERON AV          NaN         1   \n",
       "34520  Vacant Land  6889973111      6154 S 13TH ST          NaN        13   \n",
       "34521  Vacant Land  1120017000      7351 N BEAU AV          NaN         5   \n",
       "34522  Vacant Land  3550447000   2208 N NEWHALL ST          NaN         3   \n",
       "\n",
       "       Nbhd                         Style Extwall  Stories  Year_Built  \\\n",
       "34518  6236  Warehouse Building - 1 Story     NaN      1.0        1949   \n",
       "34519  6232               Commercial Land     NaN      0.0           0   \n",
       "34520  6290               Commercial Land     NaN      0.0           0   \n",
       "34521   820                            **     NaN      0.0           0   \n",
       "34522  3190                            **     NaN      0.0           0   \n",
       "\n",
       "       Nr_of_rms  Fin_sqft  Units  Bdrms  Fbath  Hbath  Lotsize Sale_date  \\\n",
       "34518          0      4800      1      0      0      0     9000   2018-12   \n",
       "34519          0         0      1      0      0      0     7800   2018-12   \n",
       "34520          0         0      1      0      0      0   152286   2018-12   \n",
       "34521          0         0      0      0      0      0     8925   2018-12   \n",
       "34522          0         0      0      0      0      0     5400   2018-12   \n",
       "\n",
       "       Sale_price  \n",
       "34518      165000  \n",
       "34519        3900  \n",
       "34520      100000  \n",
       "34521      362400  \n",
       "34522       91000  "
      ]
     },
     "execution_count": 2,
     "metadata": {},
     "output_type": "execute_result"
    }
   ],
   "source": [
    "data = pd.read_csv(\"property_sales_data.csv\")\n",
    "data.tail()"
   ]
  },
  {
   "cell_type": "code",
   "execution_count": 3,
   "id": "e47fe2ed-056b-4f04-86c5-669b543456c0",
   "metadata": {},
   "outputs": [
    {
     "data": {
      "text/plain": [
       "PropType            5\n",
       "Taxkey          29439\n",
       "Address         26846\n",
       "CondoProject      537\n",
       "District           15\n",
       "Nbhd              591\n",
       "Style             386\n",
       "Extwall             9\n",
       "Stories            19\n",
       "Year_Built        168\n",
       "Nr_of_rms          13\n",
       "Fin_sqft         4421\n",
       "Units               9\n",
       "Bdrms              15\n",
       "Fbath               8\n",
       "Hbath               4\n",
       "Lotsize          4740\n",
       "Sale_date         204\n",
       "Sale_price       3692\n",
       "dtype: int64"
      ]
     },
     "execution_count": 3,
     "metadata": {},
     "output_type": "execute_result"
    }
   ],
   "source": [
    "data.nunique()"
   ]
  },
  {
   "cell_type": "code",
   "execution_count": 4,
   "id": "2c4f9a74-8ec5-499e-9273-55eb7ef61166",
   "metadata": {},
   "outputs": [
    {
     "data": {
      "text/plain": [
       "PropType                     Commercial\n",
       "Taxkey                       3061230000\n",
       "Address                5302 W CENTER ST\n",
       "CondoProject                        NaN\n",
       "District                             10\n",
       "Nbhd                               6250\n",
       "Style           Auto & Auto Body Repair\n",
       "Extwall                             NaN\n",
       "Stories                             1.0\n",
       "Year_Built                         1929\n",
       "Nr_of_rms                             0\n",
       "Fin_sqft                           2057\n",
       "Units                                 1\n",
       "Bdrms                                 0\n",
       "Fbath                                 0\n",
       "Hbath                                 0\n",
       "Lotsize                            5130\n",
       "Sale_date                       2002-08\n",
       "Sale_price                        34000\n",
       "Name: 95, dtype: object"
      ]
     },
     "execution_count": 4,
     "metadata": {},
     "output_type": "execute_result"
    }
   ],
   "source": [
    "# displaying specific row\n",
    "data.iloc[95]"
   ]
  },
  {
   "cell_type": "markdown",
   "id": "40146212-bbb9-4734-b079-2de4c6778506",
   "metadata": {},
   "source": [
    "# LabelEncoding "
   ]
  },
  {
   "cell_type": "code",
   "execution_count": 5,
   "id": "650aedce-5e1b-42a2-a268-726b5e04894b",
   "metadata": {},
   "outputs": [
    {
     "data": {
      "text/plain": [
       "0        0\n",
       "1        0\n",
       "2        0\n",
       "3        0\n",
       "4        0\n",
       "        ..\n",
       "34518    0\n",
       "34519    4\n",
       "34520    4\n",
       "34521    4\n",
       "34522    4\n",
       "Name: PropType, Length: 34523, dtype: int32"
      ]
     },
     "execution_count": 5,
     "metadata": {},
     "output_type": "execute_result"
    }
   ],
   "source": [
    "from sklearn.preprocessing import LabelEncoder\n",
    "label = LabelEncoder()\n",
    "data[\"PropType\"]  = label.fit_transform(data[\"PropType\"])\n",
    "data[\"PropType\"]"
   ]
  },
  {
   "cell_type": "markdown",
   "id": "12379f5d-b0ea-4919-978d-0a84a0a27aec",
   "metadata": {},
   "source": [
    " ## droping columns with null values except Proptype (y --->  independent variable)"
   ]
  },
  {
   "cell_type": "code",
   "execution_count": 6,
   "id": "dd6ae4da-dcd5-4957-a831-c9a9268bb201",
   "metadata": {},
   "outputs": [
    {
     "data": {
      "text/plain": [
       "Index(['PropType', 'Taxkey', 'Address', 'CondoProject', 'District', 'Nbhd',\n",
       "       'Style', 'Extwall', 'Stories', 'Year_Built', 'Nr_of_rms', 'Fin_sqft',\n",
       "       'Units', 'Bdrms', 'Fbath', 'Hbath', 'Lotsize', 'Sale_date',\n",
       "       'Sale_price'],\n",
       "      dtype='object')"
      ]
     },
     "execution_count": 6,
     "metadata": {},
     "output_type": "execute_result"
    }
   ],
   "source": [
    "data = data.dropna(subset = [\"PropType\"])\n",
    "data.columns\n",
    "#data.isnull().sum()"
   ]
  },
  {
   "cell_type": "code",
   "execution_count": 7,
   "id": "a350d28b-12a7-4a98-aa76-10d5e2993a57",
   "metadata": {},
   "outputs": [],
   "source": [
    "# from sklearn.impute import SimpleImputer\n",
    "# sc = simpleImputer(strategy)\n",
    "# data[\"PropType\"] = sc.fit_transform()"
   ]
  },
  {
   "cell_type": "code",
   "execution_count": 8,
   "id": "76b31168-8d50-4a65-818b-9513eb4d5811",
   "metadata": {},
   "outputs": [
    {
     "data": {
      "text/plain": [
       "PropType            0\n",
       "Taxkey              0\n",
       "Address             0\n",
       "CondoProject    27867\n",
       "District            0\n",
       "Nbhd                0\n",
       "Style               6\n",
       "Extwall          9899\n",
       "Stories             0\n",
       "Year_Built          0\n",
       "Nr_of_rms           0\n",
       "Fin_sqft            0\n",
       "Units               0\n",
       "Bdrms               0\n",
       "Fbath               0\n",
       "Hbath               0\n",
       "Lotsize             0\n",
       "Sale_date           0\n",
       "Sale_price          0\n",
       "dtype: int64"
      ]
     },
     "execution_count": 8,
     "metadata": {},
     "output_type": "execute_result"
    }
   ],
   "source": [
    "data.isnull().sum()"
   ]
  },
  {
   "cell_type": "code",
   "execution_count": 9,
   "id": "6ce9af68-b07b-4cf8-86a1-d49612de9c0d",
   "metadata": {},
   "outputs": [],
   "source": [
    "data = data.dropna(axis = 1)\n"
   ]
  },
  {
   "cell_type": "code",
   "execution_count": 10,
   "id": "e74d2863-3962-4dd5-8f5d-fae0a4153dc3",
   "metadata": {},
   "outputs": [
    {
     "data": {
      "text/plain": [
       "PropType      0\n",
       "Taxkey        0\n",
       "Address       0\n",
       "District      0\n",
       "Nbhd          0\n",
       "Stories       0\n",
       "Year_Built    0\n",
       "Nr_of_rms     0\n",
       "Fin_sqft      0\n",
       "Units         0\n",
       "Bdrms         0\n",
       "Fbath         0\n",
       "Hbath         0\n",
       "Lotsize       0\n",
       "Sale_date     0\n",
       "Sale_price    0\n",
       "dtype: int64"
      ]
     },
     "execution_count": 10,
     "metadata": {},
     "output_type": "execute_result"
    }
   ],
   "source": [
    "data.isnull().sum()"
   ]
  },
  {
   "cell_type": "code",
   "execution_count": 11,
   "id": "9786a52c-d6ee-4189-8067-959cc32a64b1",
   "metadata": {},
   "outputs": [
    {
     "data": {
      "text/html": [
       "<div>\n",
       "<style scoped>\n",
       "    .dataframe tbody tr th:only-of-type {\n",
       "        vertical-align: middle;\n",
       "    }\n",
       "\n",
       "    .dataframe tbody tr th {\n",
       "        vertical-align: top;\n",
       "    }\n",
       "\n",
       "    .dataframe thead th {\n",
       "        text-align: right;\n",
       "    }\n",
       "</style>\n",
       "<table border=\"1\" class=\"dataframe\">\n",
       "  <thead>\n",
       "    <tr style=\"text-align: right;\">\n",
       "      <th></th>\n",
       "      <th>PropType</th>\n",
       "      <th>Taxkey</th>\n",
       "      <th>Address</th>\n",
       "      <th>District</th>\n",
       "      <th>Nbhd</th>\n",
       "      <th>Stories</th>\n",
       "      <th>Year_Built</th>\n",
       "      <th>Nr_of_rms</th>\n",
       "      <th>Fin_sqft</th>\n",
       "      <th>Units</th>\n",
       "      <th>Bdrms</th>\n",
       "      <th>Fbath</th>\n",
       "      <th>Hbath</th>\n",
       "      <th>Lotsize</th>\n",
       "      <th>Sale_date</th>\n",
       "      <th>Sale_price</th>\n",
       "    </tr>\n",
       "  </thead>\n",
       "  <tbody>\n",
       "    <tr>\n",
       "      <th>0</th>\n",
       "      <td>0</td>\n",
       "      <td>3230461110</td>\n",
       "      <td>2628 N 6TH ST</td>\n",
       "      <td>6</td>\n",
       "      <td>6258</td>\n",
       "      <td>2.0</td>\n",
       "      <td>1880</td>\n",
       "      <td>0</td>\n",
       "      <td>1840</td>\n",
       "      <td>1</td>\n",
       "      <td>0</td>\n",
       "      <td>0</td>\n",
       "      <td>0</td>\n",
       "      <td>12750</td>\n",
       "      <td>2002-01</td>\n",
       "      <td>15900</td>\n",
       "    </tr>\n",
       "    <tr>\n",
       "      <th>1</th>\n",
       "      <td>0</td>\n",
       "      <td>3590192000</td>\n",
       "      <td>1363 N PROSPECT AV</td>\n",
       "      <td>3</td>\n",
       "      <td>6262</td>\n",
       "      <td>2.0</td>\n",
       "      <td>1876</td>\n",
       "      <td>0</td>\n",
       "      <td>6377</td>\n",
       "      <td>1</td>\n",
       "      <td>0</td>\n",
       "      <td>0</td>\n",
       "      <td>0</td>\n",
       "      <td>11840</td>\n",
       "      <td>2002-01</td>\n",
       "      <td>850000</td>\n",
       "    </tr>\n",
       "    <tr>\n",
       "      <th>2</th>\n",
       "      <td>0</td>\n",
       "      <td>4161194000</td>\n",
       "      <td>617 S 94TH ST</td>\n",
       "      <td>10</td>\n",
       "      <td>6272</td>\n",
       "      <td>1.0</td>\n",
       "      <td>1954</td>\n",
       "      <td>0</td>\n",
       "      <td>5022</td>\n",
       "      <td>1</td>\n",
       "      <td>0</td>\n",
       "      <td>0</td>\n",
       "      <td>0</td>\n",
       "      <td>9700</td>\n",
       "      <td>2002-01</td>\n",
       "      <td>119000</td>\n",
       "    </tr>\n",
       "    <tr>\n",
       "      <th>3</th>\n",
       "      <td>0</td>\n",
       "      <td>1719836000</td>\n",
       "      <td>3624 W SILVER SPRING DR</td>\n",
       "      <td>1</td>\n",
       "      <td>6218</td>\n",
       "      <td>2.0</td>\n",
       "      <td>1955</td>\n",
       "      <td>0</td>\n",
       "      <td>6420</td>\n",
       "      <td>1</td>\n",
       "      <td>0</td>\n",
       "      <td>0</td>\n",
       "      <td>0</td>\n",
       "      <td>8792</td>\n",
       "      <td>2002-01</td>\n",
       "      <td>210000</td>\n",
       "    </tr>\n",
       "    <tr>\n",
       "      <th>4</th>\n",
       "      <td>0</td>\n",
       "      <td>3480290000</td>\n",
       "      <td>3830 W LISBON AV</td>\n",
       "      <td>15</td>\n",
       "      <td>6254</td>\n",
       "      <td>2.0</td>\n",
       "      <td>1909</td>\n",
       "      <td>0</td>\n",
       "      <td>5956</td>\n",
       "      <td>1</td>\n",
       "      <td>0</td>\n",
       "      <td>0</td>\n",
       "      <td>0</td>\n",
       "      <td>4840</td>\n",
       "      <td>2002-01</td>\n",
       "      <td>48500</td>\n",
       "    </tr>\n",
       "  </tbody>\n",
       "</table>\n",
       "</div>"
      ],
      "text/plain": [
       "   PropType      Taxkey                  Address  District  Nbhd  Stories  \\\n",
       "0         0  3230461110            2628 N 6TH ST         6  6258      2.0   \n",
       "1         0  3590192000       1363 N PROSPECT AV         3  6262      2.0   \n",
       "2         0  4161194000            617 S 94TH ST        10  6272      1.0   \n",
       "3         0  1719836000  3624 W SILVER SPRING DR         1  6218      2.0   \n",
       "4         0  3480290000         3830 W LISBON AV        15  6254      2.0   \n",
       "\n",
       "   Year_Built  Nr_of_rms  Fin_sqft  Units  Bdrms  Fbath  Hbath  Lotsize  \\\n",
       "0        1880          0      1840      1      0      0      0    12750   \n",
       "1        1876          0      6377      1      0      0      0    11840   \n",
       "2        1954          0      5022      1      0      0      0     9700   \n",
       "3        1955          0      6420      1      0      0      0     8792   \n",
       "4        1909          0      5956      1      0      0      0     4840   \n",
       "\n",
       "  Sale_date  Sale_price  \n",
       "0   2002-01       15900  \n",
       "1   2002-01      850000  \n",
       "2   2002-01      119000  \n",
       "3   2002-01      210000  \n",
       "4   2002-01       48500  "
      ]
     },
     "execution_count": 11,
     "metadata": {},
     "output_type": "execute_result"
    }
   ],
   "source": [
    "data.head()"
   ]
  },
  {
   "cell_type": "code",
   "execution_count": 12,
   "id": "4146830f-fd79-4178-8dbf-f92ea0d03b35",
   "metadata": {},
   "outputs": [
    {
     "data": {
      "text/plain": [
       "Fin_sqft\n",
       "0        506\n",
       "1056     133\n",
       "980      133\n",
       "864      130\n",
       "936      124\n",
       "        ... \n",
       "26550      1\n",
       "7456       1\n",
       "42389      1\n",
       "2339       1\n",
       "11462      1\n",
       "Name: count, Length: 4421, dtype: int64"
      ]
     },
     "execution_count": 12,
     "metadata": {},
     "output_type": "execute_result"
    }
   ],
   "source": [
    "data[\"Fin_sqft\"].value_counts()"
   ]
  },
  {
   "cell_type": "code",
   "execution_count": 13,
   "id": "01b6f874-6615-4148-b74a-11b485e3a1bd",
   "metadata": {},
   "outputs": [
    {
     "data": {
      "text/plain": [
       "Nr_of_rms\n",
       "0     29052\n",
       "4      2163\n",
       "5      1545\n",
       "3       913\n",
       "6       503\n",
       "2       108\n",
       "7        90\n",
       "1        84\n",
       "8        48\n",
       "10        7\n",
       "9         5\n",
       "11        3\n",
       "12        2\n",
       "Name: count, dtype: int64"
      ]
     },
     "execution_count": 13,
     "metadata": {},
     "output_type": "execute_result"
    }
   ],
   "source": [
    "#data.columns[6]\n",
    "data[\"Nr_of_rms\"].value_counts()"
   ]
  },
  {
   "cell_type": "code",
   "execution_count": 14,
   "id": "691552b6-8e3d-4708-9349-26afe14e0786",
   "metadata": {},
   "outputs": [],
   "source": [
    "#data = data.drop(\"Nr_of_rms\",axis = 1)"
   ]
  },
  {
   "cell_type": "code",
   "execution_count": 15,
   "id": "5a81258c-2ca5-4299-8bdf-7ef858a198a4",
   "metadata": {},
   "outputs": [
    {
     "data": {
      "text/plain": [
       "0        2002-01\n",
       "1        2002-01\n",
       "2        2002-01\n",
       "3        2002-01\n",
       "4        2002-01\n",
       "          ...   \n",
       "34518    2018-12\n",
       "34519    2018-12\n",
       "34520    2018-12\n",
       "34521    2018-12\n",
       "34522    2018-12\n",
       "Name: Sale_date, Length: 34523, dtype: object"
      ]
     },
     "execution_count": 15,
     "metadata": {},
     "output_type": "execute_result"
    }
   ],
   "source": [
    "data['Sale_date']"
   ]
  },
  {
   "cell_type": "markdown",
   "id": "5bd4f238-1a17-45a7-a0c4-7591e5988390",
   "metadata": {},
   "source": [
    "## converting date in string to date format and conveting to timestamp"
   ]
  },
  {
   "cell_type": "code",
   "execution_count": 16,
   "id": "ac7ef37b-4837-4687-8d7d-125c669e531f",
   "metadata": {},
   "outputs": [
    {
     "data": {
      "text/html": [
       "<div>\n",
       "<style scoped>\n",
       "    .dataframe tbody tr th:only-of-type {\n",
       "        vertical-align: middle;\n",
       "    }\n",
       "\n",
       "    .dataframe tbody tr th {\n",
       "        vertical-align: top;\n",
       "    }\n",
       "\n",
       "    .dataframe thead th {\n",
       "        text-align: right;\n",
       "    }\n",
       "</style>\n",
       "<table border=\"1\" class=\"dataframe\">\n",
       "  <thead>\n",
       "    <tr style=\"text-align: right;\">\n",
       "      <th></th>\n",
       "      <th>PropType</th>\n",
       "      <th>Taxkey</th>\n",
       "      <th>Address</th>\n",
       "      <th>District</th>\n",
       "      <th>Nbhd</th>\n",
       "      <th>Stories</th>\n",
       "      <th>Year_Built</th>\n",
       "      <th>Nr_of_rms</th>\n",
       "      <th>Fin_sqft</th>\n",
       "      <th>Units</th>\n",
       "      <th>Bdrms</th>\n",
       "      <th>Fbath</th>\n",
       "      <th>Hbath</th>\n",
       "      <th>Lotsize</th>\n",
       "      <th>Sale_date</th>\n",
       "      <th>Sale_price</th>\n",
       "    </tr>\n",
       "  </thead>\n",
       "  <tbody>\n",
       "    <tr>\n",
       "      <th>0</th>\n",
       "      <td>0</td>\n",
       "      <td>3230461110</td>\n",
       "      <td>2628 N 6TH ST</td>\n",
       "      <td>6</td>\n",
       "      <td>6258</td>\n",
       "      <td>2.0</td>\n",
       "      <td>1880</td>\n",
       "      <td>0</td>\n",
       "      <td>1840</td>\n",
       "      <td>1</td>\n",
       "      <td>0</td>\n",
       "      <td>0</td>\n",
       "      <td>0</td>\n",
       "      <td>12750</td>\n",
       "      <td>2002-01-01</td>\n",
       "      <td>15900</td>\n",
       "    </tr>\n",
       "    <tr>\n",
       "      <th>1</th>\n",
       "      <td>0</td>\n",
       "      <td>3590192000</td>\n",
       "      <td>1363 N PROSPECT AV</td>\n",
       "      <td>3</td>\n",
       "      <td>6262</td>\n",
       "      <td>2.0</td>\n",
       "      <td>1876</td>\n",
       "      <td>0</td>\n",
       "      <td>6377</td>\n",
       "      <td>1</td>\n",
       "      <td>0</td>\n",
       "      <td>0</td>\n",
       "      <td>0</td>\n",
       "      <td>11840</td>\n",
       "      <td>2002-01-01</td>\n",
       "      <td>850000</td>\n",
       "    </tr>\n",
       "    <tr>\n",
       "      <th>2</th>\n",
       "      <td>0</td>\n",
       "      <td>4161194000</td>\n",
       "      <td>617 S 94TH ST</td>\n",
       "      <td>10</td>\n",
       "      <td>6272</td>\n",
       "      <td>1.0</td>\n",
       "      <td>1954</td>\n",
       "      <td>0</td>\n",
       "      <td>5022</td>\n",
       "      <td>1</td>\n",
       "      <td>0</td>\n",
       "      <td>0</td>\n",
       "      <td>0</td>\n",
       "      <td>9700</td>\n",
       "      <td>2002-01-01</td>\n",
       "      <td>119000</td>\n",
       "    </tr>\n",
       "    <tr>\n",
       "      <th>3</th>\n",
       "      <td>0</td>\n",
       "      <td>1719836000</td>\n",
       "      <td>3624 W SILVER SPRING DR</td>\n",
       "      <td>1</td>\n",
       "      <td>6218</td>\n",
       "      <td>2.0</td>\n",
       "      <td>1955</td>\n",
       "      <td>0</td>\n",
       "      <td>6420</td>\n",
       "      <td>1</td>\n",
       "      <td>0</td>\n",
       "      <td>0</td>\n",
       "      <td>0</td>\n",
       "      <td>8792</td>\n",
       "      <td>2002-01-01</td>\n",
       "      <td>210000</td>\n",
       "    </tr>\n",
       "    <tr>\n",
       "      <th>4</th>\n",
       "      <td>0</td>\n",
       "      <td>3480290000</td>\n",
       "      <td>3830 W LISBON AV</td>\n",
       "      <td>15</td>\n",
       "      <td>6254</td>\n",
       "      <td>2.0</td>\n",
       "      <td>1909</td>\n",
       "      <td>0</td>\n",
       "      <td>5956</td>\n",
       "      <td>1</td>\n",
       "      <td>0</td>\n",
       "      <td>0</td>\n",
       "      <td>0</td>\n",
       "      <td>4840</td>\n",
       "      <td>2002-01-01</td>\n",
       "      <td>48500</td>\n",
       "    </tr>\n",
       "    <tr>\n",
       "      <th>...</th>\n",
       "      <td>...</td>\n",
       "      <td>...</td>\n",
       "      <td>...</td>\n",
       "      <td>...</td>\n",
       "      <td>...</td>\n",
       "      <td>...</td>\n",
       "      <td>...</td>\n",
       "      <td>...</td>\n",
       "      <td>...</td>\n",
       "      <td>...</td>\n",
       "      <td>...</td>\n",
       "      <td>...</td>\n",
       "      <td>...</td>\n",
       "      <td>...</td>\n",
       "      <td>...</td>\n",
       "      <td>...</td>\n",
       "    </tr>\n",
       "    <tr>\n",
       "      <th>34518</th>\n",
       "      <td>0</td>\n",
       "      <td>2420009000</td>\n",
       "      <td>4141 N RICHARDS ST</td>\n",
       "      <td>6</td>\n",
       "      <td>6236</td>\n",
       "      <td>1.0</td>\n",
       "      <td>1949</td>\n",
       "      <td>0</td>\n",
       "      <td>4800</td>\n",
       "      <td>1</td>\n",
       "      <td>0</td>\n",
       "      <td>0</td>\n",
       "      <td>0</td>\n",
       "      <td>9000</td>\n",
       "      <td>2018-12-01</td>\n",
       "      <td>165000</td>\n",
       "    </tr>\n",
       "    <tr>\n",
       "      <th>34519</th>\n",
       "      <td>4</td>\n",
       "      <td>2070279100</td>\n",
       "      <td>3202 W CAMERON AV</td>\n",
       "      <td>1</td>\n",
       "      <td>6232</td>\n",
       "      <td>0.0</td>\n",
       "      <td>0</td>\n",
       "      <td>0</td>\n",
       "      <td>0</td>\n",
       "      <td>1</td>\n",
       "      <td>0</td>\n",
       "      <td>0</td>\n",
       "      <td>0</td>\n",
       "      <td>7800</td>\n",
       "      <td>2018-12-01</td>\n",
       "      <td>3900</td>\n",
       "    </tr>\n",
       "    <tr>\n",
       "      <th>34520</th>\n",
       "      <td>4</td>\n",
       "      <td>6889973111</td>\n",
       "      <td>6154 S 13TH ST</td>\n",
       "      <td>13</td>\n",
       "      <td>6290</td>\n",
       "      <td>0.0</td>\n",
       "      <td>0</td>\n",
       "      <td>0</td>\n",
       "      <td>0</td>\n",
       "      <td>1</td>\n",
       "      <td>0</td>\n",
       "      <td>0</td>\n",
       "      <td>0</td>\n",
       "      <td>152286</td>\n",
       "      <td>2018-12-01</td>\n",
       "      <td>100000</td>\n",
       "    </tr>\n",
       "    <tr>\n",
       "      <th>34521</th>\n",
       "      <td>4</td>\n",
       "      <td>1120017000</td>\n",
       "      <td>7351 N BEAU AV</td>\n",
       "      <td>5</td>\n",
       "      <td>820</td>\n",
       "      <td>0.0</td>\n",
       "      <td>0</td>\n",
       "      <td>0</td>\n",
       "      <td>0</td>\n",
       "      <td>0</td>\n",
       "      <td>0</td>\n",
       "      <td>0</td>\n",
       "      <td>0</td>\n",
       "      <td>8925</td>\n",
       "      <td>2018-12-01</td>\n",
       "      <td>362400</td>\n",
       "    </tr>\n",
       "    <tr>\n",
       "      <th>34522</th>\n",
       "      <td>4</td>\n",
       "      <td>3550447000</td>\n",
       "      <td>2208 N NEWHALL ST</td>\n",
       "      <td>3</td>\n",
       "      <td>3190</td>\n",
       "      <td>0.0</td>\n",
       "      <td>0</td>\n",
       "      <td>0</td>\n",
       "      <td>0</td>\n",
       "      <td>0</td>\n",
       "      <td>0</td>\n",
       "      <td>0</td>\n",
       "      <td>0</td>\n",
       "      <td>5400</td>\n",
       "      <td>2018-12-01</td>\n",
       "      <td>91000</td>\n",
       "    </tr>\n",
       "  </tbody>\n",
       "</table>\n",
       "<p>34523 rows × 16 columns</p>\n",
       "</div>"
      ],
      "text/plain": [
       "       PropType      Taxkey                  Address  District  Nbhd  Stories  \\\n",
       "0             0  3230461110            2628 N 6TH ST         6  6258      2.0   \n",
       "1             0  3590192000       1363 N PROSPECT AV         3  6262      2.0   \n",
       "2             0  4161194000            617 S 94TH ST        10  6272      1.0   \n",
       "3             0  1719836000  3624 W SILVER SPRING DR         1  6218      2.0   \n",
       "4             0  3480290000         3830 W LISBON AV        15  6254      2.0   \n",
       "...         ...         ...                      ...       ...   ...      ...   \n",
       "34518         0  2420009000       4141 N RICHARDS ST         6  6236      1.0   \n",
       "34519         4  2070279100        3202 W CAMERON AV         1  6232      0.0   \n",
       "34520         4  6889973111           6154 S 13TH ST        13  6290      0.0   \n",
       "34521         4  1120017000           7351 N BEAU AV         5   820      0.0   \n",
       "34522         4  3550447000        2208 N NEWHALL ST         3  3190      0.0   \n",
       "\n",
       "       Year_Built  Nr_of_rms  Fin_sqft  Units  Bdrms  Fbath  Hbath  Lotsize  \\\n",
       "0            1880          0      1840      1      0      0      0    12750   \n",
       "1            1876          0      6377      1      0      0      0    11840   \n",
       "2            1954          0      5022      1      0      0      0     9700   \n",
       "3            1955          0      6420      1      0      0      0     8792   \n",
       "4            1909          0      5956      1      0      0      0     4840   \n",
       "...           ...        ...       ...    ...    ...    ...    ...      ...   \n",
       "34518        1949          0      4800      1      0      0      0     9000   \n",
       "34519           0          0         0      1      0      0      0     7800   \n",
       "34520           0          0         0      1      0      0      0   152286   \n",
       "34521           0          0         0      0      0      0      0     8925   \n",
       "34522           0          0         0      0      0      0      0     5400   \n",
       "\n",
       "       Sale_date  Sale_price  \n",
       "0     2002-01-01       15900  \n",
       "1     2002-01-01      850000  \n",
       "2     2002-01-01      119000  \n",
       "3     2002-01-01      210000  \n",
       "4     2002-01-01       48500  \n",
       "...          ...         ...  \n",
       "34518 2018-12-01      165000  \n",
       "34519 2018-12-01        3900  \n",
       "34520 2018-12-01      100000  \n",
       "34521 2018-12-01      362400  \n",
       "34522 2018-12-01       91000  \n",
       "\n",
       "[34523 rows x 16 columns]"
      ]
     },
     "execution_count": 16,
     "metadata": {},
     "output_type": "execute_result"
    }
   ],
   "source": [
    "data['Sale_date'] = pd.to_datetime(data['Sale_date'])\n",
    "data"
   ]
  },
  {
   "cell_type": "code",
   "execution_count": 17,
   "id": "cce87041-2866-413a-8da4-2310c00768b9",
   "metadata": {},
   "outputs": [
    {
     "data": {
      "text/html": [
       "<div>\n",
       "<style scoped>\n",
       "    .dataframe tbody tr th:only-of-type {\n",
       "        vertical-align: middle;\n",
       "    }\n",
       "\n",
       "    .dataframe tbody tr th {\n",
       "        vertical-align: top;\n",
       "    }\n",
       "\n",
       "    .dataframe thead th {\n",
       "        text-align: right;\n",
       "    }\n",
       "</style>\n",
       "<table border=\"1\" class=\"dataframe\">\n",
       "  <thead>\n",
       "    <tr style=\"text-align: right;\">\n",
       "      <th></th>\n",
       "      <th>PropType</th>\n",
       "      <th>Taxkey</th>\n",
       "      <th>Address</th>\n",
       "      <th>District</th>\n",
       "      <th>Nbhd</th>\n",
       "      <th>Stories</th>\n",
       "      <th>Year_Built</th>\n",
       "      <th>Nr_of_rms</th>\n",
       "      <th>Fin_sqft</th>\n",
       "      <th>Units</th>\n",
       "      <th>Bdrms</th>\n",
       "      <th>Fbath</th>\n",
       "      <th>Hbath</th>\n",
       "      <th>Lotsize</th>\n",
       "      <th>Sale_price</th>\n",
       "      <th>timestamp</th>\n",
       "    </tr>\n",
       "  </thead>\n",
       "  <tbody>\n",
       "    <tr>\n",
       "      <th>0</th>\n",
       "      <td>0</td>\n",
       "      <td>3230461110</td>\n",
       "      <td>2628 N 6TH ST</td>\n",
       "      <td>6</td>\n",
       "      <td>6258</td>\n",
       "      <td>2.0</td>\n",
       "      <td>1880</td>\n",
       "      <td>0</td>\n",
       "      <td>1840</td>\n",
       "      <td>1</td>\n",
       "      <td>0</td>\n",
       "      <td>0</td>\n",
       "      <td>0</td>\n",
       "      <td>12750</td>\n",
       "      <td>15900</td>\n",
       "      <td>1.009843e+09</td>\n",
       "    </tr>\n",
       "    <tr>\n",
       "      <th>1</th>\n",
       "      <td>0</td>\n",
       "      <td>3590192000</td>\n",
       "      <td>1363 N PROSPECT AV</td>\n",
       "      <td>3</td>\n",
       "      <td>6262</td>\n",
       "      <td>2.0</td>\n",
       "      <td>1876</td>\n",
       "      <td>0</td>\n",
       "      <td>6377</td>\n",
       "      <td>1</td>\n",
       "      <td>0</td>\n",
       "      <td>0</td>\n",
       "      <td>0</td>\n",
       "      <td>11840</td>\n",
       "      <td>850000</td>\n",
       "      <td>1.009843e+09</td>\n",
       "    </tr>\n",
       "    <tr>\n",
       "      <th>2</th>\n",
       "      <td>0</td>\n",
       "      <td>4161194000</td>\n",
       "      <td>617 S 94TH ST</td>\n",
       "      <td>10</td>\n",
       "      <td>6272</td>\n",
       "      <td>1.0</td>\n",
       "      <td>1954</td>\n",
       "      <td>0</td>\n",
       "      <td>5022</td>\n",
       "      <td>1</td>\n",
       "      <td>0</td>\n",
       "      <td>0</td>\n",
       "      <td>0</td>\n",
       "      <td>9700</td>\n",
       "      <td>119000</td>\n",
       "      <td>1.009843e+09</td>\n",
       "    </tr>\n",
       "    <tr>\n",
       "      <th>3</th>\n",
       "      <td>0</td>\n",
       "      <td>1719836000</td>\n",
       "      <td>3624 W SILVER SPRING DR</td>\n",
       "      <td>1</td>\n",
       "      <td>6218</td>\n",
       "      <td>2.0</td>\n",
       "      <td>1955</td>\n",
       "      <td>0</td>\n",
       "      <td>6420</td>\n",
       "      <td>1</td>\n",
       "      <td>0</td>\n",
       "      <td>0</td>\n",
       "      <td>0</td>\n",
       "      <td>8792</td>\n",
       "      <td>210000</td>\n",
       "      <td>1.009843e+09</td>\n",
       "    </tr>\n",
       "    <tr>\n",
       "      <th>4</th>\n",
       "      <td>0</td>\n",
       "      <td>3480290000</td>\n",
       "      <td>3830 W LISBON AV</td>\n",
       "      <td>15</td>\n",
       "      <td>6254</td>\n",
       "      <td>2.0</td>\n",
       "      <td>1909</td>\n",
       "      <td>0</td>\n",
       "      <td>5956</td>\n",
       "      <td>1</td>\n",
       "      <td>0</td>\n",
       "      <td>0</td>\n",
       "      <td>0</td>\n",
       "      <td>4840</td>\n",
       "      <td>48500</td>\n",
       "      <td>1.009843e+09</td>\n",
       "    </tr>\n",
       "  </tbody>\n",
       "</table>\n",
       "</div>"
      ],
      "text/plain": [
       "   PropType      Taxkey                  Address  District  Nbhd  Stories  \\\n",
       "0         0  3230461110            2628 N 6TH ST         6  6258      2.0   \n",
       "1         0  3590192000       1363 N PROSPECT AV         3  6262      2.0   \n",
       "2         0  4161194000            617 S 94TH ST        10  6272      1.0   \n",
       "3         0  1719836000  3624 W SILVER SPRING DR         1  6218      2.0   \n",
       "4         0  3480290000         3830 W LISBON AV        15  6254      2.0   \n",
       "\n",
       "   Year_Built  Nr_of_rms  Fin_sqft  Units  Bdrms  Fbath  Hbath  Lotsize  \\\n",
       "0        1880          0      1840      1      0      0      0    12750   \n",
       "1        1876          0      6377      1      0      0      0    11840   \n",
       "2        1954          0      5022      1      0      0      0     9700   \n",
       "3        1955          0      6420      1      0      0      0     8792   \n",
       "4        1909          0      5956      1      0      0      0     4840   \n",
       "\n",
       "   Sale_price     timestamp  \n",
       "0       15900  1.009843e+09  \n",
       "1      850000  1.009843e+09  \n",
       "2      119000  1.009843e+09  \n",
       "3      210000  1.009843e+09  \n",
       "4       48500  1.009843e+09  "
      ]
     },
     "execution_count": 17,
     "metadata": {},
     "output_type": "execute_result"
    }
   ],
   "source": [
    "data['Sale_date'] = pd.to_datetime(data['Sale_date'])\n",
    "data['timestamp'] = data['Sale_date'].apply(lambda x: x.timestamp())\n",
    "data.drop('Sale_date',axis = 1,inplace = True)\n",
    "data.head(5)"
   ]
  },
  {
   "cell_type": "code",
   "execution_count": 18,
   "id": "1e0fc048-64b2-436f-857a-9f838fae9c50",
   "metadata": {},
   "outputs": [
    {
     "data": {
      "text/html": [
       "<div>\n",
       "<style scoped>\n",
       "    .dataframe tbody tr th:only-of-type {\n",
       "        vertical-align: middle;\n",
       "    }\n",
       "\n",
       "    .dataframe tbody tr th {\n",
       "        vertical-align: top;\n",
       "    }\n",
       "\n",
       "    .dataframe thead th {\n",
       "        text-align: right;\n",
       "    }\n",
       "</style>\n",
       "<table border=\"1\" class=\"dataframe\">\n",
       "  <thead>\n",
       "    <tr style=\"text-align: right;\">\n",
       "      <th></th>\n",
       "      <th>PropType</th>\n",
       "      <th>Taxkey</th>\n",
       "      <th>Address</th>\n",
       "      <th>District</th>\n",
       "      <th>Nbhd</th>\n",
       "      <th>Stories</th>\n",
       "      <th>Year_Built</th>\n",
       "      <th>Nr_of_rms</th>\n",
       "      <th>Fin_sqft</th>\n",
       "      <th>Units</th>\n",
       "      <th>Bdrms</th>\n",
       "      <th>Fbath</th>\n",
       "      <th>Hbath</th>\n",
       "      <th>Lotsize</th>\n",
       "      <th>timestamp</th>\n",
       "      <th>Sale_price</th>\n",
       "    </tr>\n",
       "  </thead>\n",
       "  <tbody>\n",
       "    <tr>\n",
       "      <th>0</th>\n",
       "      <td>0</td>\n",
       "      <td>3230461110</td>\n",
       "      <td>2628 N 6TH ST</td>\n",
       "      <td>6</td>\n",
       "      <td>6258</td>\n",
       "      <td>2.0</td>\n",
       "      <td>1880</td>\n",
       "      <td>0</td>\n",
       "      <td>1840</td>\n",
       "      <td>1</td>\n",
       "      <td>0</td>\n",
       "      <td>0</td>\n",
       "      <td>0</td>\n",
       "      <td>12750</td>\n",
       "      <td>1.009843e+09</td>\n",
       "      <td>15900</td>\n",
       "    </tr>\n",
       "    <tr>\n",
       "      <th>1</th>\n",
       "      <td>0</td>\n",
       "      <td>3590192000</td>\n",
       "      <td>1363 N PROSPECT AV</td>\n",
       "      <td>3</td>\n",
       "      <td>6262</td>\n",
       "      <td>2.0</td>\n",
       "      <td>1876</td>\n",
       "      <td>0</td>\n",
       "      <td>6377</td>\n",
       "      <td>1</td>\n",
       "      <td>0</td>\n",
       "      <td>0</td>\n",
       "      <td>0</td>\n",
       "      <td>11840</td>\n",
       "      <td>1.009843e+09</td>\n",
       "      <td>850000</td>\n",
       "    </tr>\n",
       "    <tr>\n",
       "      <th>2</th>\n",
       "      <td>0</td>\n",
       "      <td>4161194000</td>\n",
       "      <td>617 S 94TH ST</td>\n",
       "      <td>10</td>\n",
       "      <td>6272</td>\n",
       "      <td>1.0</td>\n",
       "      <td>1954</td>\n",
       "      <td>0</td>\n",
       "      <td>5022</td>\n",
       "      <td>1</td>\n",
       "      <td>0</td>\n",
       "      <td>0</td>\n",
       "      <td>0</td>\n",
       "      <td>9700</td>\n",
       "      <td>1.009843e+09</td>\n",
       "      <td>119000</td>\n",
       "    </tr>\n",
       "    <tr>\n",
       "      <th>3</th>\n",
       "      <td>0</td>\n",
       "      <td>1719836000</td>\n",
       "      <td>3624 W SILVER SPRING DR</td>\n",
       "      <td>1</td>\n",
       "      <td>6218</td>\n",
       "      <td>2.0</td>\n",
       "      <td>1955</td>\n",
       "      <td>0</td>\n",
       "      <td>6420</td>\n",
       "      <td>1</td>\n",
       "      <td>0</td>\n",
       "      <td>0</td>\n",
       "      <td>0</td>\n",
       "      <td>8792</td>\n",
       "      <td>1.009843e+09</td>\n",
       "      <td>210000</td>\n",
       "    </tr>\n",
       "    <tr>\n",
       "      <th>4</th>\n",
       "      <td>0</td>\n",
       "      <td>3480290000</td>\n",
       "      <td>3830 W LISBON AV</td>\n",
       "      <td>15</td>\n",
       "      <td>6254</td>\n",
       "      <td>2.0</td>\n",
       "      <td>1909</td>\n",
       "      <td>0</td>\n",
       "      <td>5956</td>\n",
       "      <td>1</td>\n",
       "      <td>0</td>\n",
       "      <td>0</td>\n",
       "      <td>0</td>\n",
       "      <td>4840</td>\n",
       "      <td>1.009843e+09</td>\n",
       "      <td>48500</td>\n",
       "    </tr>\n",
       "    <tr>\n",
       "      <th>...</th>\n",
       "      <td>...</td>\n",
       "      <td>...</td>\n",
       "      <td>...</td>\n",
       "      <td>...</td>\n",
       "      <td>...</td>\n",
       "      <td>...</td>\n",
       "      <td>...</td>\n",
       "      <td>...</td>\n",
       "      <td>...</td>\n",
       "      <td>...</td>\n",
       "      <td>...</td>\n",
       "      <td>...</td>\n",
       "      <td>...</td>\n",
       "      <td>...</td>\n",
       "      <td>...</td>\n",
       "      <td>...</td>\n",
       "    </tr>\n",
       "    <tr>\n",
       "      <th>34518</th>\n",
       "      <td>0</td>\n",
       "      <td>2420009000</td>\n",
       "      <td>4141 N RICHARDS ST</td>\n",
       "      <td>6</td>\n",
       "      <td>6236</td>\n",
       "      <td>1.0</td>\n",
       "      <td>1949</td>\n",
       "      <td>0</td>\n",
       "      <td>4800</td>\n",
       "      <td>1</td>\n",
       "      <td>0</td>\n",
       "      <td>0</td>\n",
       "      <td>0</td>\n",
       "      <td>9000</td>\n",
       "      <td>1.543622e+09</td>\n",
       "      <td>165000</td>\n",
       "    </tr>\n",
       "    <tr>\n",
       "      <th>34519</th>\n",
       "      <td>4</td>\n",
       "      <td>2070279100</td>\n",
       "      <td>3202 W CAMERON AV</td>\n",
       "      <td>1</td>\n",
       "      <td>6232</td>\n",
       "      <td>0.0</td>\n",
       "      <td>0</td>\n",
       "      <td>0</td>\n",
       "      <td>0</td>\n",
       "      <td>1</td>\n",
       "      <td>0</td>\n",
       "      <td>0</td>\n",
       "      <td>0</td>\n",
       "      <td>7800</td>\n",
       "      <td>1.543622e+09</td>\n",
       "      <td>3900</td>\n",
       "    </tr>\n",
       "    <tr>\n",
       "      <th>34520</th>\n",
       "      <td>4</td>\n",
       "      <td>6889973111</td>\n",
       "      <td>6154 S 13TH ST</td>\n",
       "      <td>13</td>\n",
       "      <td>6290</td>\n",
       "      <td>0.0</td>\n",
       "      <td>0</td>\n",
       "      <td>0</td>\n",
       "      <td>0</td>\n",
       "      <td>1</td>\n",
       "      <td>0</td>\n",
       "      <td>0</td>\n",
       "      <td>0</td>\n",
       "      <td>152286</td>\n",
       "      <td>1.543622e+09</td>\n",
       "      <td>100000</td>\n",
       "    </tr>\n",
       "    <tr>\n",
       "      <th>34521</th>\n",
       "      <td>4</td>\n",
       "      <td>1120017000</td>\n",
       "      <td>7351 N BEAU AV</td>\n",
       "      <td>5</td>\n",
       "      <td>820</td>\n",
       "      <td>0.0</td>\n",
       "      <td>0</td>\n",
       "      <td>0</td>\n",
       "      <td>0</td>\n",
       "      <td>0</td>\n",
       "      <td>0</td>\n",
       "      <td>0</td>\n",
       "      <td>0</td>\n",
       "      <td>8925</td>\n",
       "      <td>1.543622e+09</td>\n",
       "      <td>362400</td>\n",
       "    </tr>\n",
       "    <tr>\n",
       "      <th>34522</th>\n",
       "      <td>4</td>\n",
       "      <td>3550447000</td>\n",
       "      <td>2208 N NEWHALL ST</td>\n",
       "      <td>3</td>\n",
       "      <td>3190</td>\n",
       "      <td>0.0</td>\n",
       "      <td>0</td>\n",
       "      <td>0</td>\n",
       "      <td>0</td>\n",
       "      <td>0</td>\n",
       "      <td>0</td>\n",
       "      <td>0</td>\n",
       "      <td>0</td>\n",
       "      <td>5400</td>\n",
       "      <td>1.543622e+09</td>\n",
       "      <td>91000</td>\n",
       "    </tr>\n",
       "  </tbody>\n",
       "</table>\n",
       "<p>34523 rows × 16 columns</p>\n",
       "</div>"
      ],
      "text/plain": [
       "       PropType      Taxkey                  Address  District  Nbhd  Stories  \\\n",
       "0             0  3230461110            2628 N 6TH ST         6  6258      2.0   \n",
       "1             0  3590192000       1363 N PROSPECT AV         3  6262      2.0   \n",
       "2             0  4161194000            617 S 94TH ST        10  6272      1.0   \n",
       "3             0  1719836000  3624 W SILVER SPRING DR         1  6218      2.0   \n",
       "4             0  3480290000         3830 W LISBON AV        15  6254      2.0   \n",
       "...         ...         ...                      ...       ...   ...      ...   \n",
       "34518         0  2420009000       4141 N RICHARDS ST         6  6236      1.0   \n",
       "34519         4  2070279100        3202 W CAMERON AV         1  6232      0.0   \n",
       "34520         4  6889973111           6154 S 13TH ST        13  6290      0.0   \n",
       "34521         4  1120017000           7351 N BEAU AV         5   820      0.0   \n",
       "34522         4  3550447000        2208 N NEWHALL ST         3  3190      0.0   \n",
       "\n",
       "       Year_Built  Nr_of_rms  Fin_sqft  Units  Bdrms  Fbath  Hbath  Lotsize  \\\n",
       "0            1880          0      1840      1      0      0      0    12750   \n",
       "1            1876          0      6377      1      0      0      0    11840   \n",
       "2            1954          0      5022      1      0      0      0     9700   \n",
       "3            1955          0      6420      1      0      0      0     8792   \n",
       "4            1909          0      5956      1      0      0      0     4840   \n",
       "...           ...        ...       ...    ...    ...    ...    ...      ...   \n",
       "34518        1949          0      4800      1      0      0      0     9000   \n",
       "34519           0          0         0      1      0      0      0     7800   \n",
       "34520           0          0         0      1      0      0      0   152286   \n",
       "34521           0          0         0      0      0      0      0     8925   \n",
       "34522           0          0         0      0      0      0      0     5400   \n",
       "\n",
       "          timestamp  Sale_price  \n",
       "0      1.009843e+09       15900  \n",
       "1      1.009843e+09      850000  \n",
       "2      1.009843e+09      119000  \n",
       "3      1.009843e+09      210000  \n",
       "4      1.009843e+09       48500  \n",
       "...             ...         ...  \n",
       "34518  1.543622e+09      165000  \n",
       "34519  1.543622e+09        3900  \n",
       "34520  1.543622e+09      100000  \n",
       "34521  1.543622e+09      362400  \n",
       "34522  1.543622e+09       91000  \n",
       "\n",
       "[34523 rows x 16 columns]"
      ]
     },
     "execution_count": 18,
     "metadata": {},
     "output_type": "execute_result"
    }
   ],
   "source": [
    "col_to_move = data.pop('Sale_price')\n",
    "data['Sale_price'] = col_to_move\n",
    "# pos = len(data.columns) -1 \n",
    "# data.insert(pos,'Sale_price',col_to_move)\n",
    "data"
   ]
  },
  {
   "cell_type": "code",
   "execution_count": 52,
   "id": "da79a06c-dc44-46fb-aa86-a81981dcb46d",
   "metadata": {},
   "outputs": [
    {
     "data": {
      "text/html": [
       "<div>\n",
       "<style scoped>\n",
       "    .dataframe tbody tr th:only-of-type {\n",
       "        vertical-align: middle;\n",
       "    }\n",
       "\n",
       "    .dataframe tbody tr th {\n",
       "        vertical-align: top;\n",
       "    }\n",
       "\n",
       "    .dataframe thead th {\n",
       "        text-align: right;\n",
       "    }\n",
       "</style>\n",
       "<table border=\"1\" class=\"dataframe\">\n",
       "  <thead>\n",
       "    <tr style=\"text-align: right;\">\n",
       "      <th></th>\n",
       "      <th>PropType</th>\n",
       "      <th>Taxkey</th>\n",
       "      <th>Address</th>\n",
       "      <th>District</th>\n",
       "      <th>Nbhd</th>\n",
       "      <th>Stories</th>\n",
       "      <th>Year_Built</th>\n",
       "      <th>Nr_of_rms</th>\n",
       "      <th>Fin_sqft</th>\n",
       "      <th>Units</th>\n",
       "      <th>Bdrms</th>\n",
       "      <th>Fbath</th>\n",
       "      <th>Hbath</th>\n",
       "      <th>Lotsize</th>\n",
       "      <th>timestamp</th>\n",
       "      <th>Sale_price</th>\n",
       "    </tr>\n",
       "  </thead>\n",
       "  <tbody>\n",
       "    <tr>\n",
       "      <th>0</th>\n",
       "      <td>0</td>\n",
       "      <td>3230461110</td>\n",
       "      <td>2628 N 6TH ST</td>\n",
       "      <td>6</td>\n",
       "      <td>6258</td>\n",
       "      <td>2.0</td>\n",
       "      <td>1880</td>\n",
       "      <td>0</td>\n",
       "      <td>1840</td>\n",
       "      <td>1</td>\n",
       "      <td>0</td>\n",
       "      <td>0</td>\n",
       "      <td>0</td>\n",
       "      <td>12750</td>\n",
       "      <td>1.009843e+09</td>\n",
       "      <td>15900</td>\n",
       "    </tr>\n",
       "    <tr>\n",
       "      <th>1</th>\n",
       "      <td>0</td>\n",
       "      <td>3590192000</td>\n",
       "      <td>1363 N PROSPECT AV</td>\n",
       "      <td>3</td>\n",
       "      <td>6262</td>\n",
       "      <td>2.0</td>\n",
       "      <td>1876</td>\n",
       "      <td>0</td>\n",
       "      <td>6377</td>\n",
       "      <td>1</td>\n",
       "      <td>0</td>\n",
       "      <td>0</td>\n",
       "      <td>0</td>\n",
       "      <td>11840</td>\n",
       "      <td>1.009843e+09</td>\n",
       "      <td>850000</td>\n",
       "    </tr>\n",
       "    <tr>\n",
       "      <th>2</th>\n",
       "      <td>0</td>\n",
       "      <td>4161194000</td>\n",
       "      <td>617 S 94TH ST</td>\n",
       "      <td>10</td>\n",
       "      <td>6272</td>\n",
       "      <td>1.0</td>\n",
       "      <td>1954</td>\n",
       "      <td>0</td>\n",
       "      <td>5022</td>\n",
       "      <td>1</td>\n",
       "      <td>0</td>\n",
       "      <td>0</td>\n",
       "      <td>0</td>\n",
       "      <td>9700</td>\n",
       "      <td>1.009843e+09</td>\n",
       "      <td>119000</td>\n",
       "    </tr>\n",
       "    <tr>\n",
       "      <th>3</th>\n",
       "      <td>0</td>\n",
       "      <td>1719836000</td>\n",
       "      <td>3624 W SILVER SPRING DR</td>\n",
       "      <td>1</td>\n",
       "      <td>6218</td>\n",
       "      <td>2.0</td>\n",
       "      <td>1955</td>\n",
       "      <td>0</td>\n",
       "      <td>6420</td>\n",
       "      <td>1</td>\n",
       "      <td>0</td>\n",
       "      <td>0</td>\n",
       "      <td>0</td>\n",
       "      <td>8792</td>\n",
       "      <td>1.009843e+09</td>\n",
       "      <td>210000</td>\n",
       "    </tr>\n",
       "    <tr>\n",
       "      <th>4</th>\n",
       "      <td>0</td>\n",
       "      <td>3480290000</td>\n",
       "      <td>3830 W LISBON AV</td>\n",
       "      <td>15</td>\n",
       "      <td>6254</td>\n",
       "      <td>2.0</td>\n",
       "      <td>1909</td>\n",
       "      <td>0</td>\n",
       "      <td>5956</td>\n",
       "      <td>1</td>\n",
       "      <td>0</td>\n",
       "      <td>0</td>\n",
       "      <td>0</td>\n",
       "      <td>4840</td>\n",
       "      <td>1.009843e+09</td>\n",
       "      <td>48500</td>\n",
       "    </tr>\n",
       "  </tbody>\n",
       "</table>\n",
       "</div>"
      ],
      "text/plain": [
       "   PropType      Taxkey                  Address  District  Nbhd  Stories  \\\n",
       "0         0  3230461110            2628 N 6TH ST         6  6258      2.0   \n",
       "1         0  3590192000       1363 N PROSPECT AV         3  6262      2.0   \n",
       "2         0  4161194000            617 S 94TH ST        10  6272      1.0   \n",
       "3         0  1719836000  3624 W SILVER SPRING DR         1  6218      2.0   \n",
       "4         0  3480290000         3830 W LISBON AV        15  6254      2.0   \n",
       "\n",
       "   Year_Built  Nr_of_rms  Fin_sqft  Units  Bdrms  Fbath  Hbath  Lotsize  \\\n",
       "0        1880          0      1840      1      0      0      0    12750   \n",
       "1        1876          0      6377      1      0      0      0    11840   \n",
       "2        1954          0      5022      1      0      0      0     9700   \n",
       "3        1955          0      6420      1      0      0      0     8792   \n",
       "4        1909          0      5956      1      0      0      0     4840   \n",
       "\n",
       "      timestamp  Sale_price  \n",
       "0  1.009843e+09       15900  \n",
       "1  1.009843e+09      850000  \n",
       "2  1.009843e+09      119000  \n",
       "3  1.009843e+09      210000  \n",
       "4  1.009843e+09       48500  "
      ]
     },
     "execution_count": 52,
     "metadata": {},
     "output_type": "execute_result"
    }
   ],
   "source": [
    "#data['PropType'].nunique()\n",
    "data.head()"
   ]
  },
  {
   "cell_type": "markdown",
   "id": "35ee8448-286f-4885-81b5-b46143d631b8",
   "metadata": {},
   "source": [
    "## independent variables "
   ]
  },
  {
   "cell_type": "code",
   "execution_count": 53,
   "id": "74f2f1d6-ab56-49b2-b316-7474ba0fc350",
   "metadata": {},
   "outputs": [
    {
     "data": {
      "text/plain": [
       "Index(['Nr_of_rms', 'Units', 'Bdrms', 'Fbath', 'Hbath', 'Lotsize'], dtype='object')"
      ]
     },
     "execution_count": 53,
     "metadata": {},
     "output_type": "execute_result"
    }
   ],
   "source": [
    "#x = data[[\"Nbhd\",\"Stories\",\"Year_Built\",'Fin_sqft',\"Units\",\"Lotsize\"]]\n",
    "xc = data[['Nr_of_rms','Units','Bdrms','Fbath','Hbath','Lotsize']]\n",
    "xr = data[['District','Stories','Nr_of_rms','Fin_sqft','Units','Bdrms','Fbath','Hbath','Lotsize']]\n",
    "\n",
    "xc.columns"
   ]
  },
  {
   "cell_type": "markdown",
   "id": "a853bac8-302e-4f6c-ac4b-bdcf00c9e6ac",
   "metadata": {},
   "source": [
    "## dependent variable"
   ]
  },
  {
   "cell_type": "code",
   "execution_count": 54,
   "id": "53a1a0da-b3ba-41fd-9db2-0f465c1aadd9",
   "metadata": {},
   "outputs": [],
   "source": [
    "y_classify = data[\"PropType\"] "
   ]
  },
  {
   "cell_type": "code",
   "execution_count": 55,
   "id": "f0973563-aa63-4410-9bfe-6d83f15f92a7",
   "metadata": {},
   "outputs": [],
   "source": [
    "y_reg = data['Sale_price']"
   ]
  },
  {
   "cell_type": "markdown",
   "id": "86d4eb11-6885-4670-b148-73f31ec00756",
   "metadata": {},
   "source": [
    "## splitting train and test split data"
   ]
  },
  {
   "cell_type": "code",
   "execution_count": 56,
   "id": "0f81822d-1692-4dfe-93b9-1b395713b879",
   "metadata": {},
   "outputs": [],
   "source": [
    "from sklearn.model_selection import train_test_split\n",
    "x_train_c,x_test_c,y_train_c,y_test_c = train_test_split(xc,y_classify,test_size = .2,random_state = 2)\n",
    "x_train_r,x_test_r,y_train_r,y_test_r = train_test_split(xr,y_reg,test_size = .2, random_state = 0)"
   ]
  },
  {
   "cell_type": "markdown",
   "id": "ff3f1514-4793-43f2-9cf8-b53ce5d85531",
   "metadata": {},
   "source": [
    "## standardization"
   ]
  },
  {
   "cell_type": "code",
   "execution_count": 57,
   "id": "11df68e8-7693-48dc-a573-733cc0f162d1",
   "metadata": {},
   "outputs": [],
   "source": [
    "from sklearn.preprocessing import StandardScaler\n",
    "sc = StandardScaler()\n",
    "x_train_c = sc.fit_transform(x_train_c)\n",
    "x_test_c = sc.fit_transform(x_test_c)\n",
    "x_train_r = sc.fit_transform(x_train_r)\n",
    "x_test_r = sc.fit_transform(x_test_r)"
   ]
  },
  {
   "cell_type": "code",
   "execution_count": 58,
   "id": "7725bb13-c09f-49d1-ac6e-22a9af1383e3",
   "metadata": {},
   "outputs": [
    {
     "data": {
      "text/plain": [
       "array([[-0.40296595, -0.34801762,  0.17273552, -0.40450038,  1.36631106,\n",
       "        -0.10113917],\n",
       "       [-0.40296595, -0.34801762, -1.82850401, -1.73263881, -0.60575789,\n",
       "         0.80601123],\n",
       "       [-0.40296595,  2.09411824,  2.17397505,  2.25177648, -0.60575789,\n",
       "        -0.16258789],\n",
       "       ...,\n",
       "       [-0.40296595, -2.79015349, -1.82850401, -1.73263881, -0.60575789,\n",
       "         0.06003706],\n",
       "       [-0.40296595, -0.34801762,  0.17273552, -0.40450038, -0.60575789,\n",
       "        -0.11501469],\n",
       "       [-0.40296595, -0.34801762, -0.49434432, -0.40450038,  1.36631106,\n",
       "        -0.09915696]])"
      ]
     },
     "execution_count": 58,
     "metadata": {},
     "output_type": "execute_result"
    }
   ],
   "source": [
    "x_test_c"
   ]
  },
  {
   "cell_type": "code",
   "execution_count": 59,
   "id": "afbf7a8b-1d1f-412b-849f-85372d93fb39",
   "metadata": {},
   "outputs": [
    {
     "data": {
      "text/plain": [
       "25246     16000\n",
       "12656    105000\n",
       "3421      75000\n",
       "16860     94000\n",
       "29145     34900\n",
       "          ...  \n",
       "20757     47000\n",
       "32103    122000\n",
       "30403    135000\n",
       "21243    199900\n",
       "2732     179000\n",
       "Name: Sale_price, Length: 27618, dtype: int64"
      ]
     },
     "execution_count": 59,
     "metadata": {},
     "output_type": "execute_result"
    }
   ],
   "source": [
    "y_train_c\n",
    "y_train_r"
   ]
  },
  {
   "cell_type": "markdown",
   "id": "7db9951a-461f-4704-ab77-7d36acae7f3b",
   "metadata": {},
   "source": [
    "## classification model "
   ]
  },
  {
   "cell_type": "code",
   "execution_count": 60,
   "id": "791eb34e-f5b8-42f8-ac34-a478a4dadaf3",
   "metadata": {},
   "outputs": [
    {
     "data": {
      "text/html": [
       "<style>#sk-container-id-4 {color: black;background-color: white;}#sk-container-id-4 pre{padding: 0;}#sk-container-id-4 div.sk-toggleable {background-color: white;}#sk-container-id-4 label.sk-toggleable__label {cursor: pointer;display: block;width: 100%;margin-bottom: 0;padding: 0.3em;box-sizing: border-box;text-align: center;}#sk-container-id-4 label.sk-toggleable__label-arrow:before {content: \"▸\";float: left;margin-right: 0.25em;color: #696969;}#sk-container-id-4 label.sk-toggleable__label-arrow:hover:before {color: black;}#sk-container-id-4 div.sk-estimator:hover label.sk-toggleable__label-arrow:before {color: black;}#sk-container-id-4 div.sk-toggleable__content {max-height: 0;max-width: 0;overflow: hidden;text-align: left;background-color: #f0f8ff;}#sk-container-id-4 div.sk-toggleable__content pre {margin: 0.2em;color: black;border-radius: 0.25em;background-color: #f0f8ff;}#sk-container-id-4 input.sk-toggleable__control:checked~div.sk-toggleable__content {max-height: 200px;max-width: 100%;overflow: auto;}#sk-container-id-4 input.sk-toggleable__control:checked~label.sk-toggleable__label-arrow:before {content: \"▾\";}#sk-container-id-4 div.sk-estimator input.sk-toggleable__control:checked~label.sk-toggleable__label {background-color: #d4ebff;}#sk-container-id-4 div.sk-label input.sk-toggleable__control:checked~label.sk-toggleable__label {background-color: #d4ebff;}#sk-container-id-4 input.sk-hidden--visually {border: 0;clip: rect(1px 1px 1px 1px);clip: rect(1px, 1px, 1px, 1px);height: 1px;margin: -1px;overflow: hidden;padding: 0;position: absolute;width: 1px;}#sk-container-id-4 div.sk-estimator {font-family: monospace;background-color: #f0f8ff;border: 1px dotted black;border-radius: 0.25em;box-sizing: border-box;margin-bottom: 0.5em;}#sk-container-id-4 div.sk-estimator:hover {background-color: #d4ebff;}#sk-container-id-4 div.sk-parallel-item::after {content: \"\";width: 100%;border-bottom: 1px solid gray;flex-grow: 1;}#sk-container-id-4 div.sk-label:hover label.sk-toggleable__label {background-color: #d4ebff;}#sk-container-id-4 div.sk-serial::before {content: \"\";position: absolute;border-left: 1px solid gray;box-sizing: border-box;top: 0;bottom: 0;left: 50%;z-index: 0;}#sk-container-id-4 div.sk-serial {display: flex;flex-direction: column;align-items: center;background-color: white;padding-right: 0.2em;padding-left: 0.2em;position: relative;}#sk-container-id-4 div.sk-item {position: relative;z-index: 1;}#sk-container-id-4 div.sk-parallel {display: flex;align-items: stretch;justify-content: center;background-color: white;position: relative;}#sk-container-id-4 div.sk-item::before, #sk-container-id-4 div.sk-parallel-item::before {content: \"\";position: absolute;border-left: 1px solid gray;box-sizing: border-box;top: 0;bottom: 0;left: 50%;z-index: -1;}#sk-container-id-4 div.sk-parallel-item {display: flex;flex-direction: column;z-index: 1;position: relative;background-color: white;}#sk-container-id-4 div.sk-parallel-item:first-child::after {align-self: flex-end;width: 50%;}#sk-container-id-4 div.sk-parallel-item:last-child::after {align-self: flex-start;width: 50%;}#sk-container-id-4 div.sk-parallel-item:only-child::after {width: 0;}#sk-container-id-4 div.sk-dashed-wrapped {border: 1px dashed gray;margin: 0 0.4em 0.5em 0.4em;box-sizing: border-box;padding-bottom: 0.4em;background-color: white;}#sk-container-id-4 div.sk-label label {font-family: monospace;font-weight: bold;display: inline-block;line-height: 1.2em;}#sk-container-id-4 div.sk-label-container {text-align: center;}#sk-container-id-4 div.sk-container {/* jupyter's `normalize.less` sets `[hidden] { display: none; }` but bootstrap.min.css set `[hidden] { display: none !important; }` so we also need the `!important` here to be able to override the default hidden behavior on the sphinx rendered scikit-learn.org. See: https://github.com/scikit-learn/scikit-learn/issues/21755 */display: inline-block !important;position: relative;}#sk-container-id-4 div.sk-text-repr-fallback {display: none;}</style><div id=\"sk-container-id-4\" class=\"sk-top-container\"><div class=\"sk-text-repr-fallback\"><pre>RandomForestClassifier()</pre><b>In a Jupyter environment, please rerun this cell to show the HTML representation or trust the notebook. <br />On GitHub, the HTML representation is unable to render, please try loading this page with nbviewer.org.</b></div><div class=\"sk-container\" hidden><div class=\"sk-item\"><div class=\"sk-estimator sk-toggleable\"><input class=\"sk-toggleable__control sk-hidden--visually\" id=\"sk-estimator-id-4\" type=\"checkbox\" checked><label for=\"sk-estimator-id-4\" class=\"sk-toggleable__label sk-toggleable__label-arrow\">RandomForestClassifier</label><div class=\"sk-toggleable__content\"><pre>RandomForestClassifier()</pre></div></div></div></div></div>"
      ],
      "text/plain": [
       "RandomForestClassifier()"
      ]
     },
     "execution_count": 60,
     "metadata": {},
     "output_type": "execute_result"
    }
   ],
   "source": [
    "from sklearn.ensemble import RandomForestClassifier\n",
    "model = RandomForestClassifier()\n",
    "model.fit(x_train_c,y_train_c)"
   ]
  },
  {
   "cell_type": "code",
   "execution_count": 61,
   "id": "d5b31e3a-96e7-453b-820e-3e69b1fa9bc4",
   "metadata": {},
   "outputs": [
    {
     "data": {
      "text/plain": [
       "array([3, 2, 3, ..., 4, 3, 3])"
      ]
     },
     "execution_count": 61,
     "metadata": {},
     "output_type": "execute_result"
    }
   ],
   "source": [
    "y_pred_c = model.predict(x_test_c)\n",
    "y_pred_c\n"
   ]
  },
  {
   "cell_type": "code",
   "execution_count": 62,
   "id": "c452ef97-ca7d-48df-a655-cf787f90bb82",
   "metadata": {},
   "outputs": [
    {
     "data": {
      "text/plain": [
       "0.9588703837798697"
      ]
     },
     "execution_count": 62,
     "metadata": {},
     "output_type": "execute_result"
    }
   ],
   "source": [
    " "
   ]
  },
  {
   "cell_type": "code",
   "execution_count": 63,
   "id": "5235358d-e294-4724-8c60-acb65affb494",
   "metadata": {},
   "outputs": [
    {
     "data": {
      "text/html": [
       "<div>\n",
       "<style scoped>\n",
       "    .dataframe tbody tr th:only-of-type {\n",
       "        vertical-align: middle;\n",
       "    }\n",
       "\n",
       "    .dataframe tbody tr th {\n",
       "        vertical-align: top;\n",
       "    }\n",
       "\n",
       "    .dataframe thead th {\n",
       "        text-align: right;\n",
       "    }\n",
       "</style>\n",
       "<table border=\"1\" class=\"dataframe\">\n",
       "  <thead>\n",
       "    <tr style=\"text-align: right;\">\n",
       "      <th></th>\n",
       "      <th>Nr_of_rms</th>\n",
       "      <th>Units</th>\n",
       "      <th>Bdrms</th>\n",
       "      <th>Fbath</th>\n",
       "      <th>Hbath</th>\n",
       "      <th>Lotsize</th>\n",
       "    </tr>\n",
       "  </thead>\n",
       "  <tbody>\n",
       "    <tr>\n",
       "      <th>0</th>\n",
       "      <td>0</td>\n",
       "      <td>1</td>\n",
       "      <td>0</td>\n",
       "      <td>0</td>\n",
       "      <td>0</td>\n",
       "      <td>12750</td>\n",
       "    </tr>\n",
       "    <tr>\n",
       "      <th>1</th>\n",
       "      <td>0</td>\n",
       "      <td>1</td>\n",
       "      <td>0</td>\n",
       "      <td>0</td>\n",
       "      <td>0</td>\n",
       "      <td>11840</td>\n",
       "    </tr>\n",
       "    <tr>\n",
       "      <th>2</th>\n",
       "      <td>0</td>\n",
       "      <td>1</td>\n",
       "      <td>0</td>\n",
       "      <td>0</td>\n",
       "      <td>0</td>\n",
       "      <td>9700</td>\n",
       "    </tr>\n",
       "    <tr>\n",
       "      <th>3</th>\n",
       "      <td>0</td>\n",
       "      <td>1</td>\n",
       "      <td>0</td>\n",
       "      <td>0</td>\n",
       "      <td>0</td>\n",
       "      <td>8792</td>\n",
       "    </tr>\n",
       "    <tr>\n",
       "      <th>4</th>\n",
       "      <td>0</td>\n",
       "      <td>1</td>\n",
       "      <td>0</td>\n",
       "      <td>0</td>\n",
       "      <td>0</td>\n",
       "      <td>4840</td>\n",
       "    </tr>\n",
       "    <tr>\n",
       "      <th>...</th>\n",
       "      <td>...</td>\n",
       "      <td>...</td>\n",
       "      <td>...</td>\n",
       "      <td>...</td>\n",
       "      <td>...</td>\n",
       "      <td>...</td>\n",
       "    </tr>\n",
       "    <tr>\n",
       "      <th>34518</th>\n",
       "      <td>0</td>\n",
       "      <td>1</td>\n",
       "      <td>0</td>\n",
       "      <td>0</td>\n",
       "      <td>0</td>\n",
       "      <td>9000</td>\n",
       "    </tr>\n",
       "    <tr>\n",
       "      <th>34519</th>\n",
       "      <td>0</td>\n",
       "      <td>1</td>\n",
       "      <td>0</td>\n",
       "      <td>0</td>\n",
       "      <td>0</td>\n",
       "      <td>7800</td>\n",
       "    </tr>\n",
       "    <tr>\n",
       "      <th>34520</th>\n",
       "      <td>0</td>\n",
       "      <td>1</td>\n",
       "      <td>0</td>\n",
       "      <td>0</td>\n",
       "      <td>0</td>\n",
       "      <td>152286</td>\n",
       "    </tr>\n",
       "    <tr>\n",
       "      <th>34521</th>\n",
       "      <td>0</td>\n",
       "      <td>0</td>\n",
       "      <td>0</td>\n",
       "      <td>0</td>\n",
       "      <td>0</td>\n",
       "      <td>8925</td>\n",
       "    </tr>\n",
       "    <tr>\n",
       "      <th>34522</th>\n",
       "      <td>0</td>\n",
       "      <td>0</td>\n",
       "      <td>0</td>\n",
       "      <td>0</td>\n",
       "      <td>0</td>\n",
       "      <td>5400</td>\n",
       "    </tr>\n",
       "  </tbody>\n",
       "</table>\n",
       "<p>34523 rows × 6 columns</p>\n",
       "</div>"
      ],
      "text/plain": [
       "       Nr_of_rms  Units  Bdrms  Fbath  Hbath  Lotsize\n",
       "0              0      1      0      0      0    12750\n",
       "1              0      1      0      0      0    11840\n",
       "2              0      1      0      0      0     9700\n",
       "3              0      1      0      0      0     8792\n",
       "4              0      1      0      0      0     4840\n",
       "...          ...    ...    ...    ...    ...      ...\n",
       "34518          0      1      0      0      0     9000\n",
       "34519          0      1      0      0      0     7800\n",
       "34520          0      1      0      0      0   152286\n",
       "34521          0      0      0      0      0     8925\n",
       "34522          0      0      0      0      0     5400\n",
       "\n",
       "[34523 rows x 6 columns]"
      ]
     },
     "execution_count": 63,
     "metadata": {},
     "output_type": "execute_result"
    }
   ],
   "source": [
    "xc"
   ]
  },
  {
   "cell_type": "code",
   "execution_count": 64,
   "id": "ad64f1c7-c02c-4bdf-8f0c-bda937ba7fa1",
   "metadata": {},
   "outputs": [
    {
     "data": {
      "text/plain": [
       "array([3])"
      ]
     },
     "execution_count": 64,
     "metadata": {},
     "output_type": "execute_result"
    }
   ],
   "source": [
    "ic=[[0,1,2,1,1,15000]]\n",
    "scaled_calInput = sc.fit_transform(ic)\n",
    "scaled_calInput = pd.DataFrame(scaled_calInput)\n",
    "output = model.predict(scaled_calInput)\n",
    "output"
   ]
  },
  {
   "cell_type": "code",
   "execution_count": null,
   "id": "5c5380b9-781d-412d-a5ff-2485685f2d35",
   "metadata": {},
   "outputs": [],
   "source": []
  },
  {
   "cell_type": "code",
   "execution_count": 65,
   "id": "58e186f6-4fb2-431e-a1f0-0a5a58f7b75c",
   "metadata": {},
   "outputs": [],
   "source": [
    "## Regression model"
   ]
  },
  {
   "cell_type": "code",
   "execution_count": 66,
   "id": "706f60a9-ccc6-4410-8448-0a65d4e5a33f",
   "metadata": {},
   "outputs": [
    {
     "data": {
      "text/html": [
       "<style>#sk-container-id-5 {color: black;background-color: white;}#sk-container-id-5 pre{padding: 0;}#sk-container-id-5 div.sk-toggleable {background-color: white;}#sk-container-id-5 label.sk-toggleable__label {cursor: pointer;display: block;width: 100%;margin-bottom: 0;padding: 0.3em;box-sizing: border-box;text-align: center;}#sk-container-id-5 label.sk-toggleable__label-arrow:before {content: \"▸\";float: left;margin-right: 0.25em;color: #696969;}#sk-container-id-5 label.sk-toggleable__label-arrow:hover:before {color: black;}#sk-container-id-5 div.sk-estimator:hover label.sk-toggleable__label-arrow:before {color: black;}#sk-container-id-5 div.sk-toggleable__content {max-height: 0;max-width: 0;overflow: hidden;text-align: left;background-color: #f0f8ff;}#sk-container-id-5 div.sk-toggleable__content pre {margin: 0.2em;color: black;border-radius: 0.25em;background-color: #f0f8ff;}#sk-container-id-5 input.sk-toggleable__control:checked~div.sk-toggleable__content {max-height: 200px;max-width: 100%;overflow: auto;}#sk-container-id-5 input.sk-toggleable__control:checked~label.sk-toggleable__label-arrow:before {content: \"▾\";}#sk-container-id-5 div.sk-estimator input.sk-toggleable__control:checked~label.sk-toggleable__label {background-color: #d4ebff;}#sk-container-id-5 div.sk-label input.sk-toggleable__control:checked~label.sk-toggleable__label {background-color: #d4ebff;}#sk-container-id-5 input.sk-hidden--visually {border: 0;clip: rect(1px 1px 1px 1px);clip: rect(1px, 1px, 1px, 1px);height: 1px;margin: -1px;overflow: hidden;padding: 0;position: absolute;width: 1px;}#sk-container-id-5 div.sk-estimator {font-family: monospace;background-color: #f0f8ff;border: 1px dotted black;border-radius: 0.25em;box-sizing: border-box;margin-bottom: 0.5em;}#sk-container-id-5 div.sk-estimator:hover {background-color: #d4ebff;}#sk-container-id-5 div.sk-parallel-item::after {content: \"\";width: 100%;border-bottom: 1px solid gray;flex-grow: 1;}#sk-container-id-5 div.sk-label:hover label.sk-toggleable__label {background-color: #d4ebff;}#sk-container-id-5 div.sk-serial::before {content: \"\";position: absolute;border-left: 1px solid gray;box-sizing: border-box;top: 0;bottom: 0;left: 50%;z-index: 0;}#sk-container-id-5 div.sk-serial {display: flex;flex-direction: column;align-items: center;background-color: white;padding-right: 0.2em;padding-left: 0.2em;position: relative;}#sk-container-id-5 div.sk-item {position: relative;z-index: 1;}#sk-container-id-5 div.sk-parallel {display: flex;align-items: stretch;justify-content: center;background-color: white;position: relative;}#sk-container-id-5 div.sk-item::before, #sk-container-id-5 div.sk-parallel-item::before {content: \"\";position: absolute;border-left: 1px solid gray;box-sizing: border-box;top: 0;bottom: 0;left: 50%;z-index: -1;}#sk-container-id-5 div.sk-parallel-item {display: flex;flex-direction: column;z-index: 1;position: relative;background-color: white;}#sk-container-id-5 div.sk-parallel-item:first-child::after {align-self: flex-end;width: 50%;}#sk-container-id-5 div.sk-parallel-item:last-child::after {align-self: flex-start;width: 50%;}#sk-container-id-5 div.sk-parallel-item:only-child::after {width: 0;}#sk-container-id-5 div.sk-dashed-wrapped {border: 1px dashed gray;margin: 0 0.4em 0.5em 0.4em;box-sizing: border-box;padding-bottom: 0.4em;background-color: white;}#sk-container-id-5 div.sk-label label {font-family: monospace;font-weight: bold;display: inline-block;line-height: 1.2em;}#sk-container-id-5 div.sk-label-container {text-align: center;}#sk-container-id-5 div.sk-container {/* jupyter's `normalize.less` sets `[hidden] { display: none; }` but bootstrap.min.css set `[hidden] { display: none !important; }` so we also need the `!important` here to be able to override the default hidden behavior on the sphinx rendered scikit-learn.org. See: https://github.com/scikit-learn/scikit-learn/issues/21755 */display: inline-block !important;position: relative;}#sk-container-id-5 div.sk-text-repr-fallback {display: none;}</style><div id=\"sk-container-id-5\" class=\"sk-top-container\"><div class=\"sk-text-repr-fallback\"><pre>RandomForestRegressor()</pre><b>In a Jupyter environment, please rerun this cell to show the HTML representation or trust the notebook. <br />On GitHub, the HTML representation is unable to render, please try loading this page with nbviewer.org.</b></div><div class=\"sk-container\" hidden><div class=\"sk-item\"><div class=\"sk-estimator sk-toggleable\"><input class=\"sk-toggleable__control sk-hidden--visually\" id=\"sk-estimator-id-5\" type=\"checkbox\" checked><label for=\"sk-estimator-id-5\" class=\"sk-toggleable__label sk-toggleable__label-arrow\">RandomForestRegressor</label><div class=\"sk-toggleable__content\"><pre>RandomForestRegressor()</pre></div></div></div></div></div>"
      ],
      "text/plain": [
       "RandomForestRegressor()"
      ]
     },
     "execution_count": 66,
     "metadata": {},
     "output_type": "execute_result"
    }
   ],
   "source": [
    "from sklearn.ensemble import RandomForestRegressor\n",
    "reg = RandomForestRegressor()\n",
    "reg.fit(x_train_r,y_train_r)"
   ]
  },
  {
   "cell_type": "code",
   "execution_count": 67,
   "id": "16c5e65c-1b91-482a-834a-47c9b2a59950",
   "metadata": {},
   "outputs": [
    {
     "data": {
      "text/plain": [
       "array([ 191476.16666667,  143282.5       ,  174591.66666667, ...,\n",
       "        315072.28666667,  252160.66666667, 1224893.16666667])"
      ]
     },
     "execution_count": 67,
     "metadata": {},
     "output_type": "execute_result"
    }
   ],
   "source": [
    "y_pred_r = reg.predict(x_test_r)\n",
    "y_pred_r"
   ]
  },
  {
   "cell_type": "code",
   "execution_count": 68,
   "id": "e8eadb2f-60a5-4c4b-8f09-b1d945c8de59",
   "metadata": {},
   "outputs": [
    {
     "data": {
      "text/plain": [
       "309923466886.6182"
      ]
     },
     "execution_count": 68,
     "metadata": {},
     "output_type": "execute_result"
    }
   ],
   "source": [
    "from sklearn.metrics import (\n",
    "mean_squared_error,\n",
    "mean_absolute_error,\n",
    "r2_score,\n",
    "explained_variance_score\n",
    ")\n",
    "mse_r = mean_squared_error(y_test_r,y_pred_r)\n",
    "mse_r\n",
    "# mae_r = mean_absolute_error(y_test_r,y_pred_r)\n",
    "# mae_r"
   ]
  },
  {
   "cell_type": "code",
   "execution_count": 69,
   "id": "42220120-94ae-423c-95e7-09e4b1b6e144",
   "metadata": {},
   "outputs": [
    {
     "data": {
      "text/plain": [
       "0.6389661893784542"
      ]
     },
     "execution_count": 69,
     "metadata": {},
     "output_type": "execute_result"
    }
   ],
   "source": [
    "r2=r2_score(y_test_r,y_pred_r)\n",
    "r2"
   ]
  },
  {
   "cell_type": "code",
   "execution_count": 72,
   "id": "a948306d-e250-407e-a5a5-5ed7859ce38e",
   "metadata": {},
   "outputs": [
    {
     "data": {
      "text/html": [
       "<div>\n",
       "<style scoped>\n",
       "    .dataframe tbody tr th:only-of-type {\n",
       "        vertical-align: middle;\n",
       "    }\n",
       "\n",
       "    .dataframe tbody tr th {\n",
       "        vertical-align: top;\n",
       "    }\n",
       "\n",
       "    .dataframe thead th {\n",
       "        text-align: right;\n",
       "    }\n",
       "</style>\n",
       "<table border=\"1\" class=\"dataframe\">\n",
       "  <thead>\n",
       "    <tr style=\"text-align: right;\">\n",
       "      <th></th>\n",
       "      <th>0</th>\n",
       "      <th>1</th>\n",
       "      <th>2</th>\n",
       "      <th>3</th>\n",
       "      <th>4</th>\n",
       "      <th>5</th>\n",
       "      <th>6</th>\n",
       "      <th>7</th>\n",
       "      <th>8</th>\n",
       "    </tr>\n",
       "  </thead>\n",
       "  <tbody>\n",
       "    <tr>\n",
       "      <th>0</th>\n",
       "      <td>0.0</td>\n",
       "      <td>0.0</td>\n",
       "      <td>0.0</td>\n",
       "      <td>0.0</td>\n",
       "      <td>0.0</td>\n",
       "      <td>0.0</td>\n",
       "      <td>0.0</td>\n",
       "      <td>0.0</td>\n",
       "      <td>0.0</td>\n",
       "    </tr>\n",
       "  </tbody>\n",
       "</table>\n",
       "</div>"
      ],
      "text/plain": [
       "     0    1    2    3    4    5    6    7    8\n",
       "0  0.0  0.0  0.0  0.0  0.0  0.0  0.0  0.0  0.0"
      ]
     },
     "execution_count": 72,
     "metadata": {},
     "output_type": "execute_result"
    }
   ],
   "source": [
    "# xr = data[['District','Stories','Nr_of_rms','Fin_sqft','Units','Bdrms','Fbath','Hbath','Lotsize']]\n",
    "from sklearn.preprocessing import StandardScaler\n",
    "sc = StandardScaler()\n",
    "regression_input = [[6,2.0,2,6258,1,1,0,1,9700]]\n",
    "scaled_regInput = sc.fit_transform(regression_input)\n",
    "scaled_regInput = pd.DataFrame(scaled_regInput)\n",
    "scaled_regInput"
   ]
  },
  {
   "cell_type": "code",
   "execution_count": 73,
   "id": "4fb58618-9699-4d01-b9bc-97536ff984c5",
   "metadata": {},
   "outputs": [
    {
     "data": {
      "text/plain": [
       "array([182158.5])"
      ]
     },
     "execution_count": 73,
     "metadata": {},
     "output_type": "execute_result"
    }
   ],
   "source": [
    "output = reg.predict(scaled_regInput)\n",
    "output"
   ]
  },
  {
   "cell_type": "markdown",
   "id": "f2ec5c8d-bd8c-49db-99d8-93569957cf77",
   "metadata": {},
   "source": [
    "# linearregression\n"
   ]
  },
  {
   "cell_type": "code",
   "execution_count": 40,
   "id": "59ea7436-5e2b-47e1-827c-6d88a7b48f6e",
   "metadata": {},
   "outputs": [],
   "source": [
    "from sklearn.linear_model import LinearRegression\n",
    "\n",
    "model=LinearRegression()\n"
   ]
  },
  {
   "cell_type": "code",
   "execution_count": 42,
   "id": "0604fe74-4473-4fc8-8f64-8605db80400d",
   "metadata": {},
   "outputs": [
    {
     "data": {
      "text/html": [
       "<style>#sk-container-id-3 {color: black;background-color: white;}#sk-container-id-3 pre{padding: 0;}#sk-container-id-3 div.sk-toggleable {background-color: white;}#sk-container-id-3 label.sk-toggleable__label {cursor: pointer;display: block;width: 100%;margin-bottom: 0;padding: 0.3em;box-sizing: border-box;text-align: center;}#sk-container-id-3 label.sk-toggleable__label-arrow:before {content: \"▸\";float: left;margin-right: 0.25em;color: #696969;}#sk-container-id-3 label.sk-toggleable__label-arrow:hover:before {color: black;}#sk-container-id-3 div.sk-estimator:hover label.sk-toggleable__label-arrow:before {color: black;}#sk-container-id-3 div.sk-toggleable__content {max-height: 0;max-width: 0;overflow: hidden;text-align: left;background-color: #f0f8ff;}#sk-container-id-3 div.sk-toggleable__content pre {margin: 0.2em;color: black;border-radius: 0.25em;background-color: #f0f8ff;}#sk-container-id-3 input.sk-toggleable__control:checked~div.sk-toggleable__content {max-height: 200px;max-width: 100%;overflow: auto;}#sk-container-id-3 input.sk-toggleable__control:checked~label.sk-toggleable__label-arrow:before {content: \"▾\";}#sk-container-id-3 div.sk-estimator input.sk-toggleable__control:checked~label.sk-toggleable__label {background-color: #d4ebff;}#sk-container-id-3 div.sk-label input.sk-toggleable__control:checked~label.sk-toggleable__label {background-color: #d4ebff;}#sk-container-id-3 input.sk-hidden--visually {border: 0;clip: rect(1px 1px 1px 1px);clip: rect(1px, 1px, 1px, 1px);height: 1px;margin: -1px;overflow: hidden;padding: 0;position: absolute;width: 1px;}#sk-container-id-3 div.sk-estimator {font-family: monospace;background-color: #f0f8ff;border: 1px dotted black;border-radius: 0.25em;box-sizing: border-box;margin-bottom: 0.5em;}#sk-container-id-3 div.sk-estimator:hover {background-color: #d4ebff;}#sk-container-id-3 div.sk-parallel-item::after {content: \"\";width: 100%;border-bottom: 1px solid gray;flex-grow: 1;}#sk-container-id-3 div.sk-label:hover label.sk-toggleable__label {background-color: #d4ebff;}#sk-container-id-3 div.sk-serial::before {content: \"\";position: absolute;border-left: 1px solid gray;box-sizing: border-box;top: 0;bottom: 0;left: 50%;z-index: 0;}#sk-container-id-3 div.sk-serial {display: flex;flex-direction: column;align-items: center;background-color: white;padding-right: 0.2em;padding-left: 0.2em;position: relative;}#sk-container-id-3 div.sk-item {position: relative;z-index: 1;}#sk-container-id-3 div.sk-parallel {display: flex;align-items: stretch;justify-content: center;background-color: white;position: relative;}#sk-container-id-3 div.sk-item::before, #sk-container-id-3 div.sk-parallel-item::before {content: \"\";position: absolute;border-left: 1px solid gray;box-sizing: border-box;top: 0;bottom: 0;left: 50%;z-index: -1;}#sk-container-id-3 div.sk-parallel-item {display: flex;flex-direction: column;z-index: 1;position: relative;background-color: white;}#sk-container-id-3 div.sk-parallel-item:first-child::after {align-self: flex-end;width: 50%;}#sk-container-id-3 div.sk-parallel-item:last-child::after {align-self: flex-start;width: 50%;}#sk-container-id-3 div.sk-parallel-item:only-child::after {width: 0;}#sk-container-id-3 div.sk-dashed-wrapped {border: 1px dashed gray;margin: 0 0.4em 0.5em 0.4em;box-sizing: border-box;padding-bottom: 0.4em;background-color: white;}#sk-container-id-3 div.sk-label label {font-family: monospace;font-weight: bold;display: inline-block;line-height: 1.2em;}#sk-container-id-3 div.sk-label-container {text-align: center;}#sk-container-id-3 div.sk-container {/* jupyter's `normalize.less` sets `[hidden] { display: none; }` but bootstrap.min.css set `[hidden] { display: none !important; }` so we also need the `!important` here to be able to override the default hidden behavior on the sphinx rendered scikit-learn.org. See: https://github.com/scikit-learn/scikit-learn/issues/21755 */display: inline-block !important;position: relative;}#sk-container-id-3 div.sk-text-repr-fallback {display: none;}</style><div id=\"sk-container-id-3\" class=\"sk-top-container\"><div class=\"sk-text-repr-fallback\"><pre>LinearRegression()</pre><b>In a Jupyter environment, please rerun this cell to show the HTML representation or trust the notebook. <br />On GitHub, the HTML representation is unable to render, please try loading this page with nbviewer.org.</b></div><div class=\"sk-container\" hidden><div class=\"sk-item\"><div class=\"sk-estimator sk-toggleable\"><input class=\"sk-toggleable__control sk-hidden--visually\" id=\"sk-estimator-id-3\" type=\"checkbox\" checked><label for=\"sk-estimator-id-3\" class=\"sk-toggleable__label sk-toggleable__label-arrow\">LinearRegression</label><div class=\"sk-toggleable__content\"><pre>LinearRegression()</pre></div></div></div></div></div>"
      ],
      "text/plain": [
       "LinearRegression()"
      ]
     },
     "execution_count": 42,
     "metadata": {},
     "output_type": "execute_result"
    }
   ],
   "source": [
    "model.fit(x_train_r,y_train_r)"
   ]
  },
  {
   "cell_type": "code",
   "execution_count": 43,
   "id": "ab5956e9-ba2b-455f-858d-ce24fca7722d",
   "metadata": {},
   "outputs": [],
   "source": [
    "y_pred_r = reg.predict(x_test_r)\n"
   ]
  },
  {
   "cell_type": "code",
   "execution_count": 44,
   "id": "4a02a072-ed3e-4706-9e07-a1930826a3ce",
   "metadata": {},
   "outputs": [
    {
     "data": {
      "text/plain": [
       "0.5772525051116314"
      ]
     },
     "execution_count": 44,
     "metadata": {},
     "output_type": "execute_result"
    }
   ],
   "source": [
    "r2=r2_score(y_test_r,y_pred_r)\n",
    "r2"
   ]
  },
  {
   "cell_type": "code",
   "execution_count": 45,
   "id": "6c6c414b-eac4-40b9-ad8f-4989e2833270",
   "metadata": {},
   "outputs": [
    {
     "data": {
      "text/plain": [
       "362900552188.9399"
      ]
     },
     "execution_count": 45,
     "metadata": {},
     "output_type": "execute_result"
    }
   ],
   "source": [
    "mse=mean_squared_error(y_test_r,y_pred_r)\n",
    "mse"
   ]
  },
  {
   "cell_type": "code",
   "execution_count": null,
   "id": "727015fb-b9f6-4f6c-acfb-28d21f60695e",
   "metadata": {},
   "outputs": [],
   "source": []
  },
  {
   "cell_type": "code",
   "execution_count": null,
   "id": "8f84d018-ef09-418e-b69e-5c89d2ec633c",
   "metadata": {},
   "outputs": [],
   "source": []
  }
 ],
 "metadata": {
  "kernelspec": {
   "display_name": "Python 3 (ipykernel)",
   "language": "python",
   "name": "python3"
  },
  "language_info": {
   "codemirror_mode": {
    "name": "ipython",
    "version": 3
   },
   "file_extension": ".py",
   "mimetype": "text/x-python",
   "name": "python",
   "nbconvert_exporter": "python",
   "pygments_lexer": "ipython3",
   "version": "3.11.7"
  }
 },
 "nbformat": 4,
 "nbformat_minor": 5
}
